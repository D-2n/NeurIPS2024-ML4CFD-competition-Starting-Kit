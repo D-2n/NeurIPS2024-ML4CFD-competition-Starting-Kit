{
 "cells": [
  {
   "cell_type": "code",
   "execution_count": 1,
   "metadata": {},
   "outputs": [],
   "source": [
    "import os\n",
    "import airfrans as af\n",
    "import numpy as np\n",
    "import matplotlib.pyplot as plt"
   ]
  },
  {
   "cell_type": "code",
   "execution_count": 2,
   "metadata": {},
   "outputs": [],
   "source": [
    "directory_name='Dataset'\n",
    "if not os.path.isdir(directory_name):\n",
    "    af.dataset.download(root = \".\", file_name = directory_name, unzip = True, OpenFOAM = False)"
   ]
  },
  {
   "cell_type": "code",
   "execution_count": 3,
   "metadata": {},
   "outputs": [
    {
     "name": "stderr",
     "output_type": "stream",
     "text": [
      "Loading dataset (task: scarce, split: train): 100%|██████████| 200/200 [00:36<00:00,  5.46it/s]\n"
     ]
    }
   ],
   "source": [
    "dataset_list, dataset_name = af.dataset.load(root = directory_name, task = 'scarce', train = True)"
   ]
  },
  {
   "cell_type": "code",
   "execution_count": 10,
   "metadata": {},
   "outputs": [],
   "source": [
    "all_velocity_magnitudes = []\n",
    "average_velocities = []\n",
    "\n",
    "for simulation_name in dataset_name:\n",
    "    try:\n",
    "        simulation = af.Simulation(root=directory_name, name=simulation_name, T=298.15)\n",
    "        velocity_magnitudes = np.linalg.norm(simulation.velocity, axis=1)\n",
    "        all_velocity_magnitudes.extend(velocity_magnitudes)\n",
    "\n",
    "        average_velocity = np.mean(velocity_magnitudes)\n",
    "        average_velocities.append(average_velocity)\n",
    "\n",
    "    except Exception as e:\n",
    "        print(f\"Error processing simulation {simulation_name}: {e}\")"
   ]
  },
  {
   "cell_type": "code",
   "execution_count": 11,
   "metadata": {},
   "outputs": [
    {
     "name": "stdout",
     "output_type": "stream",
     "text": [
      "Overall average velocity: 50.57763393995512\n"
     ]
    }
   ],
   "source": [
    "overall_average_velocity = np.mean(average_velocities)\n",
    "print(f\"Overall average velocity: {overall_average_velocity}\")"
   ]
  },
  {
   "cell_type": "code",
   "execution_count": 13,
   "metadata": {},
   "outputs": [
    {
     "data": {
      "image/png": "[encoded data removed]",
      "text/plain": [
       "<Figure size 1000x600 with 1 Axes>"
      ]
     },
     "metadata": {},
     "output_type": "display_data"
    }
   ],
   "source": [
    "# Create the velocity distribution plot\n",
    "plt.figure(figsize=(10, 6))\n",
    "plt.hist(all_velocity_magnitudes, bins=50, color='skyblue', edgecolor='black')\n",
    "plt.show()"
   ]
  },
  {
   "cell_type": "code",
   "execution_count": 5,
   "metadata": {},
   "outputs": [
    {
     "ename": "",
     "evalue": "",
     "output_type": "error",
     "traceback": [
      "\u001b[1;31mThe Kernel crashed while executing code in the current cell or a previous cell. \n",
      "\u001b[1;31mPlease review the code in the cell(s) to identify a possible cause of the failure. \n",
      "\u001b[1;31mClick <a href='https://aka.ms/vscodeJupyterKernelCrash'>here</a> for more info. \n",
      "\u001b[1;31mView Jupyter <a href='command:jupyter.viewOutput'>log</a> for further details."
     ]
    }
   ],
   "source": [
    "all_pressures = []\n",
    "all_nu_t = []\n",
    "\n",
    "for simulation_name in dataset_name:\n",
    "    try:\n",
    "        simulation = af.Simulation(root=directory_name, name=simulation_name, T=298.15)\n",
    "        all_pressures.extend(simulation.pressure)\n",
    "        all_nu_t.extend(simulation.nu_t)\n",
    "\n",
    "    except Exception as e:\n",
    "        print(f\"Error processing simulation {simulation_name}: {e}\")"
   ]
  },
  {
   "cell_type": "code",
   "execution_count": null,
   "metadata": {},
   "outputs": [],
   "source": [
    "# Create the pressure distribution plot\n",
    "plt.figure(figsize=(10, 6))\n",
    "plt.hist(all_pressures, bins=50, edgecolor='black', color='skyblue')\n",
    "plt.show()"
   ]
  },
  {
   "cell_type": "code",
   "execution_count": null,
   "metadata": {},
   "outputs": [],
   "source": [
    "# Create the turbulent viscosity distribution plot\n",
    "plt.figure(figsize=(10, 6))\n",
    "plt.hist(all_nu_t, bins=50, density=True, alpha=0.7, color='salmon', edgecolor='black', label='Turbulent Viscosity')\n",
    "plt.xlabel('Turbulent Viscosity (m²/s)')\n",
    "plt.ylabel('Probability Density')\n",
    "plt.title('Distribution of Turbulent Viscosity')\n",
    "plt.grid(True)\n",
    "plt.legend()\n",
    "plt.show()"
   ]
  }
 ],
 "metadata": {
  "kernelspec": {
   "display_name": "Python 3",
   "language": "python",
   "name": "python3"
  },
  "language_info": {
   "codemirror_mode": {
    "name": "ipython",
    "version": 3
   },
   "file_extension": ".py",
   "mimetype": "text/x-python",
   "name": "python",
   "nbconvert_exporter": "python",
   "pygments_lexer": "ipython3",
   "version": "3.10.12"
  }
 },
 "nbformat": 4,
 "nbformat_minor": 2
}
